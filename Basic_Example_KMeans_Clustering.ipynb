{
 "cells": [
  {
   "cell_type": "code",
   "execution_count": 15,
   "metadata": {},
   "outputs": [],
   "source": [
    "import os\n",
    "import numpy as np\n",
    "import pandas as pd\n",
    "import matplotlib.pyplot as plt"
   ]
  },
  {
   "cell_type": "code",
   "execution_count": 3,
   "metadata": {},
   "outputs": [],
   "source": [
    "os.chdir(\"F:\\BA\\Python\\Clustering\")"
   ]
  },
  {
   "cell_type": "code",
   "execution_count": 4,
   "metadata": {},
   "outputs": [],
   "source": [
    "data=pd.read_csv(\"clustering.csv\")"
   ]
  },
  {
   "cell_type": "code",
   "execution_count": 5,
   "metadata": {},
   "outputs": [
    {
     "data": {
      "text/html": [
       "<div>\n",
       "<style scoped>\n",
       "    .dataframe tbody tr th:only-of-type {\n",
       "        vertical-align: middle;\n",
       "    }\n",
       "\n",
       "    .dataframe tbody tr th {\n",
       "        vertical-align: top;\n",
       "    }\n",
       "\n",
       "    .dataframe thead th {\n",
       "        text-align: right;\n",
       "    }\n",
       "</style>\n",
       "<table border=\"1\" class=\"dataframe\">\n",
       "  <thead>\n",
       "    <tr style=\"text-align: right;\">\n",
       "      <th></th>\n",
       "      <th>Day</th>\n",
       "      <th>baby_product</th>\n",
       "      <th>colthing</th>\n",
       "    </tr>\n",
       "  </thead>\n",
       "  <tbody>\n",
       "    <tr>\n",
       "      <th>0</th>\n",
       "      <td>1</td>\n",
       "      <td>50</td>\n",
       "      <td>25</td>\n",
       "    </tr>\n",
       "    <tr>\n",
       "      <th>1</th>\n",
       "      <td>2</td>\n",
       "      <td>35</td>\n",
       "      <td>31</td>\n",
       "    </tr>\n",
       "    <tr>\n",
       "      <th>2</th>\n",
       "      <td>3</td>\n",
       "      <td>43</td>\n",
       "      <td>24</td>\n",
       "    </tr>\n",
       "    <tr>\n",
       "      <th>3</th>\n",
       "      <td>4</td>\n",
       "      <td>32</td>\n",
       "      <td>31</td>\n",
       "    </tr>\n",
       "    <tr>\n",
       "      <th>4</th>\n",
       "      <td>5</td>\n",
       "      <td>48</td>\n",
       "      <td>34</td>\n",
       "    </tr>\n",
       "  </tbody>\n",
       "</table>\n",
       "</div>"
      ],
      "text/plain": [
       "   Day   baby_product  colthing\n",
       "0     1            50        25\n",
       "1     2            35        31\n",
       "2     3            43        24\n",
       "3     4            32        31\n",
       "4     5            48        34"
      ]
     },
     "execution_count": 5,
     "metadata": {},
     "output_type": "execute_result"
    }
   ],
   "source": [
    "data.head()"
   ]
  },
  {
   "cell_type": "code",
   "execution_count": 7,
   "metadata": {},
   "outputs": [
    {
     "data": {
      "text/plain": [
       "array([[ 1, 50, 25],\n",
       "       [ 2, 35, 31],\n",
       "       [ 3, 43, 24],\n",
       "       [ 4, 32, 31],\n",
       "       [ 5, 48, 34],\n",
       "       [ 6, 35, 40],\n",
       "       [ 7, 37, 33],\n",
       "       [ 8, 34, 23],\n",
       "       [ 9, 37, 35],\n",
       "       [10, 45, 33],\n",
       "       [11, 47, 21],\n",
       "       [12, 41, 28],\n",
       "       [13, 42, 39],\n",
       "       [14, 31, 37],\n",
       "       [15, 31, 27],\n",
       "       [16, 33, 21],\n",
       "       [17, 45, 22],\n",
       "       [18, 31, 38],\n",
       "       [19, 30, 36],\n",
       "       [20, 32, 39],\n",
       "       [21, 33, 39],\n",
       "       [22, 38, 21],\n",
       "       [23, 42, 28],\n",
       "       [24, 46, 20],\n",
       "       [25, 34, 40],\n",
       "       [26, 45, 26],\n",
       "       [27, 44, 35],\n",
       "       [28, 43, 24],\n",
       "       [29, 40, 27],\n",
       "       [30, 41, 39],\n",
       "       [31, 31, 21],\n",
       "       [32, 49, 20],\n",
       "       [33, 38, 26],\n",
       "       [34, 43, 34],\n",
       "       [35, 32, 27],\n",
       "       [36, 47, 30],\n",
       "       [37, 39, 35],\n",
       "       [38, 45, 28],\n",
       "       [39, 37, 36],\n",
       "       [40, 33, 40],\n",
       "       [41, 34, 26],\n",
       "       [42, 30, 39],\n",
       "       [43, 44, 29],\n",
       "       [44, 44, 34],\n",
       "       [45, 33, 21],\n",
       "       [46, 44, 29],\n",
       "       [47, 46, 31],\n",
       "       [48, 48, 36],\n",
       "       [49, 46, 33],\n",
       "       [50, 36, 29]], dtype=int64)"
      ]
     },
     "execution_count": 7,
     "metadata": {},
     "output_type": "execute_result"
    }
   ],
   "source": [
    "samples=data.values\n",
    "samples"
   ]
  },
  {
   "cell_type": "code",
   "execution_count": 13,
   "metadata": {},
   "outputs": [],
   "source": [
    "from sklearn.cluster import KMeans\n",
    "# elbow method \n",
    "ks=range(1,7)\n",
    "insertia=[]\n",
    "\n",
    "for k in ks:\n",
    "    model=KMeans(n_clusters=k)\n",
    "    model.fit(samples)\n",
    "    insertia.append(model.inertia_)"
   ]
  },
  {
   "cell_type": "code",
   "execution_count": 16,
   "metadata": {},
   "outputs": [
    {
     "data": {
      "image/png": "[encoded data removed]",
      "text/plain": [
       "<Figure size 432x288 with 1 Axes>"
      ]
     },
     "metadata": {},
     "output_type": "display_data"
    }
   ],
   "source": [
    "% matplotlib inline\n",
    "plt.plot(ks,insertia,\"-o\")\n",
    "plt.xlabel(\"no of cluster\")\n",
    "plt.ylabel(\"insertia\")\n",
    "plt.show()"
   ]
  },
  {
   "cell_type": "code",
   "execution_count": 30,
   "metadata": {},
   "outputs": [
    {
     "data": {
      "text/plain": [
       "KMeans(algorithm='auto', copy_x=True, init='k-means++', max_iter=300,\n",
       "    n_clusters=3, n_init=10, n_jobs=1, precompute_distances='auto',\n",
       "    random_state=None, tol=0.0001, verbose=0)"
      ]
     },
     "execution_count": 30,
     "metadata": {},
     "output_type": "execute_result"
    }
   ],
   "source": [
    "kmeans=KMeans(n_clusters=3)\n",
    "kmeans.fit(samples)"
   ]
  },
  {
   "cell_type": "code",
   "execution_count": 31,
   "metadata": {},
   "outputs": [
    {
     "name": "stdout",
     "output_type": "stream",
     "text": [
      "[[43.         40.4        31.73333333]\n",
      " [10.7        37.35       31.7       ]\n",
      " [27.73333333 40.73333333 27.33333333]]\n",
      "[1 1 1 1 1 1 1 1 1 1 1 1 1 1 1 1 2 1 1 1 1 2 2 2 2 2 2 2 2 2 2 2 2 2 2 0 0\n",
      " 0 0 0 0 0 0 0 0 0 0 0 0 0]\n"
     ]
    }
   ],
   "source": [
    "centroids=kmeans.cluster_centers_\n",
    "labels=kmeans.labels_\n",
    "print(centroids)\n",
    "print(labels)"
   ]
  },
  {
   "cell_type": "code",
   "execution_count": 32,
   "metadata": {},
   "outputs": [
    {
     "name": "stdout",
     "output_type": "stream",
     "text": [
      "coordinate: [ 1 50 25] label: 1\n",
      "coordinate: [ 2 35 31] label: 1\n",
      "coordinate: [ 3 43 24] label: 1\n",
      "coordinate: [ 4 32 31] label: 1\n",
      "coordinate: [ 5 48 34] label: 1\n",
      "coordinate: [ 6 35 40] label: 1\n",
      "coordinate: [ 7 37 33] label: 1\n",
      "coordinate: [ 8 34 23] label: 1\n",
      "coordinate: [ 9 37 35] label: 1\n",
      "coordinate: [10 45 33] label: 1\n",
      "coordinate: [11 47 21] label: 1\n",
      "coordinate: [12 41 28] label: 1\n",
      "coordinate: [13 42 39] label: 1\n",
      "coordinate: [14 31 37] label: 1\n",
      "coordinate: [15 31 27] label: 1\n",
      "coordinate: [16 33 21] label: 1\n",
      "coordinate: [17 45 22] label: 2\n",
      "coordinate: [18 31 38] label: 1\n",
      "coordinate: [19 30 36] label: 1\n",
      "coordinate: [20 32 39] label: 1\n",
      "coordinate: [21 33 39] label: 1\n",
      "coordinate: [22 38 21] label: 2\n",
      "coordinate: [23 42 28] label: 2\n",
      "coordinate: [24 46 20] label: 2\n",
      "coordinate: [25 34 40] label: 2\n",
      "coordinate: [26 45 26] label: 2\n",
      "coordinate: [27 44 35] label: 2\n",
      "coordinate: [28 43 24] label: 2\n",
      "coordinate: [29 40 27] label: 2\n",
      "coordinate: [30 41 39] label: 2\n",
      "coordinate: [31 31 21] label: 2\n",
      "coordinate: [32 49 20] label: 2\n",
      "coordinate: [33 38 26] label: 2\n",
      "coordinate: [34 43 34] label: 2\n",
      "coordinate: [35 32 27] label: 2\n",
      "coordinate: [36 47 30] label: 0\n",
      "coordinate: [37 39 35] label: 0\n",
      "coordinate: [38 45 28] label: 0\n",
      "coordinate: [39 37 36] label: 0\n",
      "coordinate: [40 33 40] label: 0\n",
      "coordinate: [41 34 26] label: 0\n",
      "coordinate: [42 30 39] label: 0\n",
      "coordinate: [43 44 29] label: 0\n",
      "coordinate: [44 44 34] label: 0\n",
      "coordinate: [45 33 21] label: 0\n",
      "coordinate: [46 44 29] label: 0\n",
      "coordinate: [47 46 31] label: 0\n",
      "coordinate: [48 48 36] label: 0\n",
      "coordinate: [49 46 33] label: 0\n",
      "coordinate: [50 36 29] label: 0\n"
     ]
    },
    {
     "data": {
      "image/png": "[encoded data removed]",
      "text/plain": [
       "<Figure size 432x288 with 1 Axes>"
      ]
     },
     "metadata": {},
     "output_type": "display_data"
    }
   ],
   "source": [
    "colors=[\"g.\",\"r.\",\"y.\",\"b.\"]\n",
    "\n",
    "for i in range (len(samples)):\n",
    "    print(\"coordinate:\",samples[i],\"label:\",labels[i])\n",
    "    plt.plot(samples[i][0],samples[i][1],colors[labels[i]],markersize=10)\n",
    "    \n",
    "plt.scatter(centroids[:,0],centroids[:,1],marker=\"x\",s=150,linewidths=5,zorder=10)\n",
    "plt.show()"
   ]
  },
  {
   "cell_type": "code",
   "execution_count": null,
   "metadata": {},
   "outputs": [],
   "source": []
  }
 ],
 "metadata": {
  "kernelspec": {
   "display_name": "Python 3",
   "language": "python",
   "name": "python3"
  },
  "language_info": {
   "codemirror_mode": {
    "name": "ipython",
    "version": 3
   },
   "file_extension": ".py",
   "mimetype": "text/x-python",
   "name": "python",
   "nbconvert_exporter": "python",
   "pygments_lexer": "ipython3",
   "version": "3.6.5"
  }
 },
 "nbformat": 4,
 "nbformat_minor": 2
}
